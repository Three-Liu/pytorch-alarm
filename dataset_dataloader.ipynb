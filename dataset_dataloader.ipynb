{
 "cells": [
  {
   "cell_type": "markdown",
   "metadata": {},
   "source": [
    "# dataset dataloader\n",
    "____\n",
    "\n",
    "## 1. how shuffle works?\n",
    "   > if shuffle is enabled in DataLoader function, it will randomly generate index based on the size and the batch_size"
   ]
  },
  {
   "cell_type": "code",
   "execution_count": 5,
   "metadata": {},
   "outputs": [],
   "source": [
    "import torch\n",
    "import torch.utils.data as data\n",
    "torch.manual_seed(1)\n",
    "class DemoDataset(data.Dataset):\n",
    "    def __init__(self):\n",
    "        super(DemoDataset,self).__init__()\n",
    "    \n",
    "    def __len__(self):\n",
    "        return 11\n",
    "    \n",
    "    def __getitem__(self,idx):\n",
    "        return idx\n",
    "\n",
    "demo_dataset = DemoDataset()"
   ]
  },
  {
   "cell_type": "code",
   "execution_count": 7,
   "metadata": {},
   "outputs": [
    {
     "name": "stdout",
     "output_type": "stream",
     "text": [
      "tensor([0])\n",
      "tensor([1])\n",
      "tensor([2])\n",
      "tensor([3])\n",
      "tensor([4])\n",
      "tensor([5])\n",
      "tensor([6])\n",
      "tensor([7])\n",
      "tensor([8])\n",
      "tensor([9])\n",
      "tensor([10])\n"
     ]
    }
   ],
   "source": [
    "# if we set batch_size to 1 and shuffle is disabled\n",
    "demo_loader = data.DataLoader(demo_dataset,batch_size=1,shuffle=False, num_workers=0)\n",
    "\n",
    "for i in iter(demo_loader):\n",
    "    print(i)"
   ]
  },
  {
   "cell_type": "code",
   "execution_count": 8,
   "metadata": {},
   "outputs": [
    {
     "name": "stdout",
     "output_type": "stream",
     "text": [
      "tensor([0])\n",
      "tensor([2])\n",
      "tensor([4])\n",
      "tensor([7])\n",
      "tensor([3])\n",
      "tensor([8])\n",
      "tensor([1])\n",
      "tensor([6])\n",
      "tensor([5])\n",
      "tensor([9])\n",
      "tensor([10])\n"
     ]
    }
   ],
   "source": [
    "# if we set batch_size to 1 and shuffle is enabled\n",
    "demo_loader = data.DataLoader(demo_dataset,batch_size=1,shuffle=True, num_workers=0)\n",
    "\n",
    "for i in iter(demo_loader):\n",
    "    print(i)"
   ]
  },
  {
   "cell_type": "code",
   "execution_count": 10,
   "metadata": {},
   "outputs": [
    {
     "name": "stdout",
     "output_type": "stream",
     "text": [
      "tensor([ 0, 10])\n",
      "tensor([7, 1])\n",
      "tensor([2, 8])\n",
      "tensor([9, 5])\n",
      "tensor([3, 6])\n",
      "tensor([4])\n"
     ]
    }
   ],
   "source": [
    "# if we set batch_size to 2 and shuffle is enabled\n",
    "demo_loader = data.DataLoader(demo_dataset,batch_size=2,shuffle=True, num_workers=0)\n",
    "\n",
    "for i in iter(demo_loader):\n",
    "    print(i)"
   ]
  },
  {
   "cell_type": "code",
   "execution_count": 11,
   "metadata": {},
   "outputs": [
    {
     "name": "stdout",
     "output_type": "stream",
     "text": [
      "tensor([4, 1, 2])\n",
      "tensor([6, 8, 7])\n",
      "tensor([0, 5, 9])\n",
      "tensor([10,  3])\n"
     ]
    }
   ],
   "source": [
    "# if we set batch_size to 3 and shuffle is enabled\n",
    "demo_loader = data.DataLoader(demo_dataset,batch_size=3,shuffle=True, num_workers=0)\n",
    "\n",
    "for i in iter(demo_loader):\n",
    "    print(i)"
   ]
  },
  {
   "cell_type": "code",
   "execution_count": null,
   "metadata": {},
   "outputs": [],
   "source": []
  }
 ],
 "metadata": {
  "kernelspec": {
   "display_name": "Python 3",
   "language": "python",
   "name": "python3"
  },
  "language_info": {
   "codemirror_mode": {
    "name": "ipython",
    "version": 3
   },
   "file_extension": ".py",
   "mimetype": "text/x-python",
   "name": "python",
   "nbconvert_exporter": "python",
   "pygments_lexer": "ipython3",
   "version": "3.7.4"
  }
 },
 "nbformat": 4,
 "nbformat_minor": 2
}
