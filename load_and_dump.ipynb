{
 "cells": [
  {
   "cell_type": "code",
   "execution_count": 7,
   "metadata": {},
   "outputs": [],
   "source": [
    "import torch\n",
    "import torch.nn as nn"
   ]
  },
  {
   "cell_type": "markdown",
   "metadata": {},
   "source": [
    "### 1. dump method will save object\n",
    "   > **make sure the path your given ending with 'pt' or 'pth'，and the file exists**"
   ]
  },
  {
   "cell_type": "code",
   "execution_count": 24,
   "metadata": {},
   "outputs": [],
   "source": [
    "def dump(path, obj):\n",
    "    assert (path.split('.')[-1] == 'pt' or path.split('.')[-1] == 'pth')  # make sure ending with 'pt' or 'pth'\n",
    "    with open(path,'wb') as file:\n",
    "        torch.save(obj, file)"
   ]
  },
  {
   "cell_type": "markdown",
   "metadata": {},
   "source": [
    "### 2. load method will load object\n",
    "   > **make sure the path your given ending with 'pt' or 'pth'，and the file exists**"
   ]
  },
  {
   "cell_type": "code",
   "execution_count": 25,
   "metadata": {},
   "outputs": [],
   "source": [
    "def load(path):\n",
    "    assert (path.split('.')[-1] == 'pt' or path.split('.')[-1] == 'pth')  # make sure ending with 'pt' or 'pth'\n",
    "    with open(path,'rb') as file:\n",
    "        return torch.load(file)### dump method will save object, make sure the path your given ending with 'pt' or 'pth'"
   ]
  },
  {
   "cell_type": "markdown",
   "metadata": {},
   "source": [
    "### 3.  demonstrating\n",
    "> 1. dump demo_obj to file  \n",
    "> 2. load demo_obj from file"
   ]
  },
  {
   "cell_type": "code",
   "execution_count": 27,
   "metadata": {},
   "outputs": [
    {
     "name": "stdout",
     "output_type": "stream",
     "text": [
      "val:10\n",
      "val:10\n"
     ]
    }
   ],
   "source": [
    "class demo_obj:\n",
    "    '''\n",
    "        this is a demo_obj\n",
    "    '''\n",
    "    def __init__(self, val):\n",
    "        self.val = val\n",
    "    \n",
    "    def __str__(self):\n",
    "        return f\"val:{self.val}\"\n",
    "        \n",
    "o = demo_obj(10)\n",
    "print(o)\n",
    "\n",
    "dump(\"a.pt\",o)\n",
    "t = load(\"a.pt\")\n",
    "\n",
    "print(t)"
   ]
  }
 ],
 "metadata": {
  "kernelspec": {
   "display_name": "Python 3",
   "language": "python",
   "name": "python3"
  },
  "language_info": {
   "codemirror_mode": {
    "name": "ipython",
    "version": 3
   },
   "file_extension": ".py",
   "mimetype": "text/x-python",
   "name": "python",
   "nbconvert_exporter": "python",
   "pygments_lexer": "ipython3",
   "version": "3.7.4"
  }
 },
 "nbformat": 4,
 "nbformat_minor": 2
}
